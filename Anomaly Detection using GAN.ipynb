{
  "nbformat": 4,
  "nbformat_minor": 0,
  "metadata": {
    "colab": {
      "name": "Welcome To Colaboratory",
      "provenance": [],
      "collapsed_sections": []
    },
    "kernelspec": {
      "display_name": "Python 3",
      "name": "python3"
    },
    "accelerator": "GPU"
  },
  "cells": [
    {
      "cell_type": "markdown",
      "metadata": {
        "id": "nCCLPT5MP5rj"
      },
      "source": [
        "# Import Required Libraries\n"
      ]
    },
    {
      "cell_type": "code",
      "metadata": {
        "id": "ztXH30jncPFS"
      },
      "source": [
        "import os\n",
        "import random\n",
        "import torch\n",
        "import torch.nn as nn\n",
        "import torch.backends.cudnn as cudnn\n",
        "import torch.optim as optim\n",
        "import torch.utils.data\n",
        "import torchvision\n",
        "import torch.nn.init as init\n",
        "from torch.autograd import Variable\n",
        "import datetime\n",
        "from torch.utils.data import Dataset\n",
        "import pandas as pd\n",
        "import numpy as np\n",
        "import json\n",
        "from sklearn import preprocessing\n",
        "import seaborn as sns\n",
        "from sklearn.metrics import cohen_kappa_score\n",
        "from sklearn.metrics import roc_curve, auc, roc_auc_score\n",
        "import matplotlib.pyplot as plt"
      ],
      "execution_count": 1,
      "outputs": []
    },
    {
      "cell_type": "markdown",
      "metadata": {
        "id": "ZrZepz4mQF42"
      },
      "source": [
        "# Helper Functions"
      ]
    },
    {
      "cell_type": "code",
      "metadata": {
        "id": "sYbOkd_BcPIM"
      },
      "source": [
        "# Read the csv data and annotation file\n",
        "\n",
        "def read_data(data_file=None, label_file=None, key=None):\n",
        "    with open(label_file) as FI:\n",
        "        j_label = json.load(FI)\n",
        "    ano_spans = j_label[key]\n",
        "    ano_span_count = len(ano_spans)\n",
        "    df_x = pd.read_csv(data_file)\n",
        "    df_x, df_y = assign_ano(ano_spans, df_x)\n",
        "        \n",
        "    return df_x, df_y\n",
        "\n",
        "def assign_ano(ano_spans=None, df_x=None):\n",
        "    df_x['timestamp'] = pd.to_datetime(df_x['timestamp'])\n",
        "    y = np.zeros(len(df_x))\n",
        "    for ano_span in ano_spans:\n",
        "        ano_start = pd.to_datetime(ano_span[0])\n",
        "        ano_end = pd.to_datetime(ano_span[1])\n",
        "        for idx in df_x.index:\n",
        "            if df_x.loc[idx, 'timestamp'] >= ano_start and df_x.loc[idx, 'timestamp'] <= ano_end:\n",
        "                y[idx] = 1.0\n",
        "    return df_x, pd.DataFrame(y)\n",
        "\n",
        "# create sequences \n",
        "def unroll(data, labels):\n",
        "    un_data = []\n",
        "    un_labels = []\n",
        "    seq_len = int(window_length)\n",
        "    \n",
        "    \n",
        "    idx = 0\n",
        "    while(idx < len(data) - seq_len):\n",
        "        un_data.append(np.array(data.iloc[idx:idx+seq_len]))\n",
        "        un_labels.append(np.array(labels.iloc[idx:idx+seq_len]))\n",
        "        idx += stride\n",
        "    return np.array(un_data), np.array(un_labels)"
      ],
      "execution_count": 2,
      "outputs": []
    },
    {
      "cell_type": "code",
      "metadata": {
        "id": "XxBvOyL0Vy38"
      },
      "source": [
        "# Data preprocessing methods\n",
        "\n",
        "\n",
        "class data(Dataset):\n",
        "    def __init__(self, x,y):\n",
        " \n",
        "        self.x = torch.from_numpy(x).float()\n",
        "        self.y = torch.from_numpy(np.array([1 if sum(y_i) > 0 else 0 for y_i in y])).float()\n",
        "\n",
        "\n",
        "        self.data_len = x.shape[0]\n",
        " \n",
        "    def __len__(self):\n",
        "        return self.data_len\n",
        " \n",
        "    def __getitem__(self, idx):\n",
        "        return self.x[idx], self.y[idx]"
      ],
      "execution_count": 3,
      "outputs": []
    },
    {
      "cell_type": "code",
      "metadata": {
        "id": "5pqfVAQnZbRU"
      },
      "source": [
        "# Anomaly Score Function\n",
        "\n",
        "def Anomaly_score(x, G_z, Lambda=0.1):\n",
        "    residual_loss = torch.sum(torch.abs(x-G_z)) # Residual Loss\n",
        "    \n",
        "    # x_feature is a rich intermediate feature representation for real data x\n",
        "    output, x_feature = netD(x.to(device)) \n",
        "    # G_z_feature is a rich intermediate feature representation for fake data G(z)\n",
        "    output, G_z_feature = netD(G_z.to(device)) \n",
        "    \n",
        "    discrimination_loss = torch.sum(torch.abs(x_feature-G_z_feature)) # Discrimination loss\n",
        "    \n",
        "    total_loss = (1-Lambda)*residual_loss.to(device) + Lambda*discrimination_loss\n",
        "    return total_loss"
      ],
      "execution_count": 4,
      "outputs": []
    },
    {
      "cell_type": "markdown",
      "metadata": {
        "id": "ghwDkTlPS9eP"
      },
      "source": [
        "# Variable Initialization"
      ]
    },
    {
      "cell_type": "code",
      "metadata": {
        "id": "dJHWOO8ai2DQ"
      },
      "source": [
        "window_length = 60\n",
        "stride = 1\n",
        "batch_size=32\n",
        "epochs=100\n",
        "lr=0.0002\n",
        "device = \"cuda\"# select the device\n",
        "seq_len = window_length # sequence length is equal to the window length\n",
        "in_dim = 1 # input dimension is same as number of feature"
      ],
      "execution_count": 5,
      "outputs": []
    },
    {
      "cell_type": "markdown",
      "metadata": {
        "id": "RyH0i4_WRO13"
      },
      "source": [
        "# Reading data and Pre-processing"
      ]
    },
    {
      "cell_type": "code",
      "metadata": {
        "id": "KyJ-J9q3eTY3"
      },
      "source": [
        "# Reading the annotation file and data\n",
        "\n",
        "df_x, df_y = read_data('cpu_utilization_asg_misconfiguration.csv', 'combined_windows.json', 'realKnownCause/cpu_utilization_asg_misconfiguration.csv')"
      ],
      "execution_count": 14,
      "outputs": []
    },
    {
      "cell_type": "code",
      "metadata": {
        "id": "a9Jh5Mi0f4GF"
      },
      "source": [
        "# Dropping the timestamp field\n",
        "\n",
        "df_x.drop('timestamp', axis=1, inplace=True)"
      ],
      "execution_count": 33,
      "outputs": []
    },
    {
      "cell_type": "code",
      "metadata": {
        "id": "YJxLe3fjcPQ7"
      },
      "source": [
        "# Scaling the data\n",
        "\n",
        "min_max_scaler = preprocessing.StandardScaler()\n",
        "np_scaled = min_max_scaler.fit_transform(df_x[['value']])\n",
        "df_x2 = pd.DataFrame(np_scaled)"
      ],
      "execution_count": 34,
      "outputs": []
    },
    {
      "cell_type": "code",
      "metadata": {
        "id": "FzbWJDtzg9sJ"
      },
      "source": [
        "x, y = unroll(df_x2, df_y)"
      ],
      "execution_count": 35,
      "outputs": []
    },
    {
      "cell_type": "code",
      "metadata": {
        "id": "FttRRO-Ag9vB",
        "outputId": "d1a5fa90-727e-421f-ab30-92237ac74087",
        "colab": {
          "base_uri": "https://localhost:8080/"
        }
      },
      "source": [
        "x.shape, y.shape"
      ],
      "execution_count": 36,
      "outputs": [
        {
          "output_type": "execute_result",
          "data": {
            "text/plain": [
              "((17990, 60, 1), (17990, 60, 1))"
            ]
          },
          "metadata": {
            "tags": []
          },
          "execution_count": 36
        }
      ]
    },
    {
      "cell_type": "code",
      "metadata": {
        "id": "MLW9E7Zlg9x-"
      },
      "source": [
        "dataset = data(x,y)"
      ],
      "execution_count": 37,
      "outputs": []
    },
    {
      "cell_type": "code",
      "metadata": {
        "id": "1kJEC--jXUT2"
      },
      "source": [
        "dataloader = torch.utils.data.DataLoader(dataset, batch_size=batch_size,\n",
        "                                         shuffle=True)"
      ],
      "execution_count": 38,
      "outputs": []
    },
    {
      "cell_type": "code",
      "metadata": {
        "id": "bB1y3MzvXYIL",
        "outputId": "b872aa1d-d047-4f23-89bd-52463ce1f40d",
        "colab": {
          "base_uri": "https://localhost:8080/"
        }
      },
      "source": [
        "dataset.x.shape, dataset.y.shape"
      ],
      "execution_count": 13,
      "outputs": [
        {
          "output_type": "execute_result",
          "data": {
            "text/plain": [
              "(torch.Size([17990, 60, 1]), torch.Size([17990]))"
            ]
          },
          "metadata": {
            "tags": []
          },
          "execution_count": 13
        }
      ]
    },
    {
      "cell_type": "markdown",
      "metadata": {
        "id": "mIGwd2MkfV8J"
      },
      "source": [
        "# Visualization of Data"
      ]
    },
    {
      "cell_type": "code",
      "metadata": {
        "id": "eupKH57nfZYe",
        "outputId": "2ec4d233-bfbf-4677-dae7-77ba63e5361d",
        "colab": {
          "base_uri": "https://localhost:8080/",
          "height": 388
        }
      },
      "source": [
        "# change the type of timestamp column for plotting\n",
        "\n",
        "\n",
        "\n",
        "# visualisation of anomaly throughout time (viz 1)\n",
        "\n",
        "fig, ax = plt.subplots(figsize=(12, 5))\n",
        "\n",
        "\n",
        "\n",
        "ax.plot(df_x['timestamp'], df_x['value'], color='blue', linewidth=0.6)\n",
        "\n",
        "ax.set_title('CPU usage data of AWS')\n",
        "\n",
        "\n",
        "\n",
        "plt.xlabel('datetime')\n",
        "\n",
        "plt.xticks(rotation=45) \n",
        "\n",
        "plt.ylabel('CPU usage data of AWS')\n",
        "\n",
        "plt.show()"
      ],
      "execution_count": 15,
      "outputs": [
        {
          "output_type": "display_data",
          "data": {
            "image/png": "[encoded data removed]",
            "text/plain": [
              "<Figure size 864x360 with 1 Axes>"
            ]
          },
          "metadata": {
            "tags": [],
            "needs_background": "light"
          }
        }
      ]
    },
    {
      "cell_type": "code",
      "metadata": {
        "id": "4ZuqpN34f9sw",
        "outputId": "abf9fc71-dd10-4f81-985f-d07f7e499708",
        "colab": {
          "base_uri": "https://localhost:8080/",
          "height": 388
        }
      },
      "source": [
        "with open('combined_windows.json') as f:j_label = json.load(f)\n",
        "anom = j_label['realKnownCause/cpu_utilization_asg_misconfiguration.csv']\n",
        "\n",
        "start = df_x[df_x['timestamp']==anom[0][0]].index[0]\n",
        "\n",
        "end = df_x[df_x['timestamp']==anom[0][1]].index[0]\n",
        "ano_df = df_x[start:end]\n",
        "\n",
        "ano_df_win = df_x[start-500:end+1000]\n",
        "\n",
        "# change the type of timestamp column for plotting\n",
        "\n",
        "# visualisation of anomaly throughout time (viz 1)\n",
        "\n",
        "fig, ax = plt.subplots(figsize=(12, 5))\n",
        "\n",
        "\n",
        "\n",
        "ax.plot(ano_df['timestamp'], ano_df['value'], color='red', linewidth=0.6)\n",
        "\n",
        "ax.plot(ano_df_win['timestamp'], ano_df_win['value'], color='green', linewidth=0.6)\n",
        "\n",
        "ax.set_title('CPU usage data of AWS')\n",
        "\n",
        "\n",
        "\n",
        "plt.xlabel('datetime')\n",
        "\n",
        "plt.xticks(rotation=45) \n",
        "\n",
        "plt.ylabel('CPU usage data of AWS')\n",
        "\n",
        "plt.show()"
      ],
      "execution_count": 32,
      "outputs": [
        {
          "output_type": "display_data",
          "data": {
            "image/png": "[encoded data removed]",
            "text/plain": [
              "<Figure size 864x360 with 1 Axes>"
            ]
          },
          "metadata": {
            "tags": [],
            "needs_background": "light"
          }
        }
      ]
    },
    {
      "cell_type": "markdown",
      "metadata": {
        "id": "wZPK1NTHURuY"
      },
      "source": [
        "# Generator and Discriminator Functions"
      ]
    },
    {
      "cell_type": "code",
      "metadata": {
        "id": "tTCZF_yyjGDx"
      },
      "source": [
        "class LSTMGenerator(nn.Module):\n",
        "    \"\"\"An LSTM based generator. It expects a sequence of noise vectors as input.\n",
        "    Args:\n",
        "        in_dim: Input noise dimensionality\n",
        "        out_dim: Output dimensionality\n",
        "        n_layers: number of lstm layers\n",
        "        hidden_dim: dimensionality of the hidden layer of lstms\n",
        "    Input: noise of shape (batch_size, seq_len, in_dim)\n",
        "    Output: sequence of shape (batch_size, seq_len, out_dim)\n",
        "    \"\"\"\n",
        "\n",
        "    def __init__(self, in_dim, out_dim, device=None):\n",
        "        super().__init__()\n",
        "        self.out_dim = out_dim\n",
        "        self.device = device\n",
        "\n",
        "        self.lstm0 = nn.LSTM(in_dim, hidden_size=32, num_layers=1, batch_first=True)\n",
        "        self.lstm1 = nn.LSTM(input_size=32, hidden_size=64, num_layers=1, batch_first=True)\n",
        "        self.lstm2 = nn.LSTM(input_size=64, hidden_size=128, num_layers=1, batch_first=True)\n",
        "        \n",
        "        self.linear = nn.Sequential(nn.Linear(in_features=128, out_features=out_dim), nn.Tanh())\n",
        "\n",
        "    def forward(self, input):\n",
        "        batch_size, seq_len = input.size(0), input.size(1)\n",
        "        h_0 = torch.zeros(1, batch_size, 32).to(self.device)\n",
        "        c_0 = torch.zeros(1, batch_size, 32).to(self.device)\n",
        "\n",
        "        recurrent_features, (h_1, c_1) = self.lstm0(input, (h_0, c_0))\n",
        "        recurrent_features, (h_2, c_2) = self.lstm1(recurrent_features)\n",
        "        recurrent_features, _ = self.lstm2(recurrent_features)\n",
        "        \n",
        "        outputs = self.linear(recurrent_features.contiguous().view(batch_size*seq_len, 128))\n",
        "        outputs = outputs.view(batch_size, seq_len, self.out_dim)\n",
        "        return outputs, recurrent_features\n",
        "\n",
        "\n",
        "class LSTMDiscriminator(nn.Module):\n",
        "    \"\"\"An LSTM based discriminator. It expects a sequence as input and outputs a probability for each element. \n",
        "    Args:\n",
        "        in_dim: Input noise dimensionality\n",
        "        n_layers: number of lstm layers\n",
        "        hidden_dim: dimensionality of the hidden layer of lstms\n",
        "    Inputs: sequence of shape (batch_size, seq_len, in_dim)\n",
        "    Output: sequence of shape (batch_size, seq_len, 1)\n",
        "    \"\"\"\n",
        "\n",
        "    def __init__(self, in_dim, device=None):\n",
        "        super().__init__()\n",
        "        self.device = device\n",
        "\n",
        "        self.lstm = nn.LSTM(input_size=in_dim, hidden_size=100, num_layers=1, batch_first=True)\n",
        "        self.linear = nn.Sequential(nn.Linear(100, 1), nn.Sigmoid())\n",
        "\n",
        "    def forward(self, input):\n",
        "        batch_size, seq_len = input.size(0), input.size(1)\n",
        "        h_0 = torch.zeros(1, batch_size, 100).to(self.device)\n",
        "        c_0 = torch.zeros(1, batch_size, 100).to(self.device)\n",
        "\n",
        "        recurrent_features, _ = self.lstm(input, (h_0, c_0))\n",
        "        outputs = self.linear(recurrent_features.contiguous().view(batch_size*seq_len, 100))\n",
        "        outputs = outputs.view(batch_size, seq_len, 1)\n",
        "        return outputs, recurrent_features"
      ],
      "execution_count": 37,
      "outputs": []
    },
    {
      "cell_type": "code",
      "metadata": {
        "id": "J5gwLjbdg99r"
      },
      "source": [
        "# Create generator and discriminator models\n",
        "netD = LSTMDiscriminator(in_dim=in_dim, device=device).to(device)\n",
        "netG = LSTMGenerator(in_dim=in_dim, out_dim=in_dim, device=device).to(device)"
      ],
      "execution_count": 38,
      "outputs": []
    },
    {
      "cell_type": "code",
      "metadata": {
        "id": "9m2nmB3pg-CF",
        "outputId": "a7f2070c-7bf5-42a4-81f4-ca358b927757",
        "colab": {
          "base_uri": "https://localhost:8080/"
        }
      },
      "source": [
        "print(\"|Discriminator Architecture|\\n\", netD)\n",
        "print(\"|Generator Architecture|\\n\", netG)"
      ],
      "execution_count": 39,
      "outputs": [
        {
          "output_type": "stream",
          "text": [
            "|Discriminator Architecture|\n",
            " LSTMDiscriminator(\n",
            "  (lstm): LSTM(1, 100, batch_first=True)\n",
            "  (linear): Sequential(\n",
            "    (0): Linear(in_features=100, out_features=1, bias=True)\n",
            "    (1): Sigmoid()\n",
            "  )\n",
            ")\n",
            "|Generator Architecture|\n",
            " LSTMGenerator(\n",
            "  (lstm0): LSTM(1, 32, batch_first=True)\n",
            "  (lstm1): LSTM(32, 64, batch_first=True)\n",
            "  (lstm2): LSTM(64, 128, batch_first=True)\n",
            "  (linear): Sequential(\n",
            "    (0): Linear(in_features=128, out_features=1, bias=True)\n",
            "    (1): Tanh()\n",
            "  )\n",
            ")\n"
          ],
          "name": "stdout"
        }
      ]
    },
    {
      "cell_type": "markdown",
      "metadata": {
        "id": "Byzq_BM9WeLQ"
      },
      "source": [
        "# Hyperparameter Definition"
      ]
    },
    {
      "cell_type": "code",
      "metadata": {
        "id": "NcPRHSSokwVu"
      },
      "source": [
        "# Setup loss function\n",
        "criterion = nn.BCELoss().to(device)\n",
        "\n",
        "# setup optimizer\n",
        "optimizerD = optim.Adam(netD.parameters(), lr=lr)\n",
        "optimizerG = optim.Adam(netG.parameters(), lr=lr)"
      ],
      "execution_count": 40,
      "outputs": []
    },
    {
      "cell_type": "markdown",
      "metadata": {
        "id": "bbk43X-LYKpU"
      },
      "source": [
        "# Adversarial Training of Generator and Discriminator Models"
      ]
    },
    {
      "cell_type": "code",
      "metadata": {
        "id": "6qvBBfZtkwfT",
        "outputId": "abded901-f38a-4c3d-cf7e-acdccf24f48f",
        "colab": {
          "base_uri": "https://localhost:8080/"
        }
      },
      "source": [
        "real_label = 1.\n",
        "fake_label = 0.\n",
        "\n",
        "for epoch in range(epochs):\n",
        "    for i, (x,y) in enumerate(dataloader, 0):\n",
        "        \n",
        "        ############################\n",
        "        # (1) Update D network: maximize log(D(x)) + log(1 - D(G(z)))\n",
        "        ###########################\n",
        "\n",
        "        #Train with real data\n",
        "        netD.zero_grad()\n",
        "        real = x.to(device)\n",
        "        batch_size, seq_len = real.size(0), real.size(1)\n",
        "        label = torch.full((batch_size, seq_len, 1), real_label, device=device)\n",
        "\n",
        "        output,_ = netD.forward(real)\n",
        "        errD_real = criterion(output, label)\n",
        "        errD_real.backward()\n",
        "        optimizerD.step()\n",
        "        D_x = output.mean().item()\n",
        "        \n",
        "        #Train with fake data\n",
        "        noise = Variable(init.normal(torch.Tensor(batch_size,seq_len,in_dim),mean=0,std=0.1)).cuda()\n",
        "        fake,_ = netG.forward(noise)\n",
        "        output,_ = netD.forward(fake.detach()) # detach causes gradient is no longer being computed or stored to save memeory\n",
        "        label.fill_(fake_label)\n",
        "        errD_fake = criterion(output, label)\n",
        "        errD_fake.backward()\n",
        "        D_G_z1 = output.mean().item()\n",
        "        errD = errD_real + errD_fake\n",
        "        optimizerD.step()\n",
        "        \n",
        "        ############################\n",
        "        # (2) Update G network: maximize log(D(G(z)))\n",
        "        ###########################\n",
        "        netG.zero_grad()\n",
        "        noise = Variable(init.normal(torch.Tensor(batch_size,seq_len,in_dim),mean=0,std=0.1)).cuda()\n",
        "        fake,_ = netG.forward(noise)\n",
        "        label.fill_(real_label) \n",
        "        output,_ = netD.forward(fake)\n",
        "        errG = criterion(output, label)\n",
        "        errG.backward()\n",
        "        optimizerG.step()\n",
        "        D_G_z2 = output.mean().item()\n",
        "        \n",
        "        \n",
        "\n",
        "    print('[%d/%d][%d/%d] Loss_D: %.4f Loss_G: %.4f D(x): %.4f D(G(z)): %.4f / %.4f' \n",
        "          % (epoch, epochs, i, len(dataloader),\n",
        "             errD.item(), errG.item(), D_x, D_G_z1, D_G_z2), end='')\n",
        "    print()"
      ],
      "execution_count": 41,
      "outputs": [
        {
          "output_type": "stream",
          "text": [
            "/usr/local/lib/python3.6/dist-packages/ipykernel_launcher.py:24: UserWarning: nn.init.normal is now deprecated in favor of nn.init.normal_.\n",
            "/usr/local/lib/python3.6/dist-packages/ipykernel_launcher.py:38: UserWarning: nn.init.normal is now deprecated in favor of nn.init.normal_.\n"
          ],
          "name": "stderr"
        },
        {
          "output_type": "stream",
          "text": [
            "[0/100][562/563] Loss_D: 1.3453 Loss_G: 0.6926 D(x): 0.5313 D(G(z)): 0.5040 / 0.5037\n",
            "[1/100][562/563] Loss_D: 1.2345 Loss_G: 0.8063 D(x): 0.5491 D(G(z)): 0.4492 / 0.4493\n",
            "[2/100][562/563] Loss_D: 0.3768 Loss_G: 1.6114 D(x): 0.9371 D(G(z)): 0.2359 / 0.2349\n",
            "[3/100][562/563] Loss_D: 0.2235 Loss_G: 3.5663 D(x): 0.9218 D(G(z)): 0.0849 / 0.0851\n",
            "[4/100][562/563] Loss_D: 0.4988 Loss_G: 1.6698 D(x): 0.8745 D(G(z)): 0.2684 / 0.2658\n",
            "[5/100][562/563] Loss_D: 0.3018 Loss_G: 1.7343 D(x): 0.9333 D(G(z)): 0.1939 / 0.1924\n",
            "[6/100][562/563] Loss_D: 0.1127 Loss_G: 3.0902 D(x): 0.9686 D(G(z)): 0.0648 / 0.0647\n",
            "[7/100][562/563] Loss_D: 0.1043 Loss_G: 3.1275 D(x): 0.9792 D(G(z)): 0.0693 / 0.0691\n",
            "[8/100][562/563] Loss_D: 3.6432 Loss_G: 0.1440 D(x): 0.9805 D(G(z)): 0.8968 / 0.8975\n",
            "[9/100][562/563] Loss_D: 0.1325 Loss_G: 2.4661 D(x): 0.9830 D(G(z)): 0.1016 / 0.1012\n",
            "[10/100][562/563] Loss_D: 0.1582 Loss_G: 2.3028 D(x): 0.9820 D(G(z)): 0.1191 / 0.1188\n",
            "[11/100][562/563] Loss_D: 0.5887 Loss_G: 1.1912 D(x): 0.8898 D(G(z)): 0.3392 / 0.3361\n",
            "[12/100][562/563] Loss_D: 0.2723 Loss_G: 3.4355 D(x): 0.9225 D(G(z)): 0.1127 / 0.1130\n",
            "[13/100][562/563] Loss_D: 0.2654 Loss_G: 2.7513 D(x): 0.9471 D(G(z)): 0.1395 / 0.1387\n",
            "[14/100][562/563] Loss_D: 0.1803 Loss_G: 2.4695 D(x): 0.9665 D(G(z)): 0.1186 / 0.1182\n",
            "[15/100][562/563] Loss_D: 0.1562 Loss_G: 3.0432 D(x): 0.9508 D(G(z)): 0.0775 / 0.0770\n",
            "[16/100][562/563] Loss_D: 0.0725 Loss_G: 3.9086 D(x): 0.9803 D(G(z)): 0.0421 / 0.0421\n",
            "[17/100][562/563] Loss_D: 0.0711 Loss_G: 3.7095 D(x): 0.9834 D(G(z)): 0.0429 / 0.0430\n",
            "[18/100][562/563] Loss_D: 0.0854 Loss_G: 4.3801 D(x): 0.9727 D(G(z)): 0.0368 / 0.0368\n",
            "[19/100][562/563] Loss_D: 0.0972 Loss_G: 2.8964 D(x): 0.9822 D(G(z)): 0.0670 / 0.0673\n",
            "[20/100][562/563] Loss_D: 0.1727 Loss_G: 4.3181 D(x): 0.9307 D(G(z)): 0.0387 / 0.0388\n",
            "[21/100][562/563] Loss_D: 0.0511 Loss_G: 4.2744 D(x): 0.9914 D(G(z)): 0.0351 / 0.0352\n",
            "[22/100][562/563] Loss_D: 0.1273 Loss_G: 2.7532 D(x): 0.9796 D(G(z)): 0.0911 / 0.0892\n",
            "[23/100][562/563] Loss_D: 0.0727 Loss_G: 3.7559 D(x): 0.9884 D(G(z)): 0.0504 / 0.0502\n",
            "[24/100][562/563] Loss_D: 0.0533 Loss_G: 4.5019 D(x): 0.9927 D(G(z)): 0.0368 / 0.0368\n",
            "[25/100][562/563] Loss_D: 0.0593 Loss_G: 5.4667 D(x): 0.9865 D(G(z)): 0.0344 / 0.0343\n",
            "[26/100][562/563] Loss_D: 0.0588 Loss_G: 4.0000 D(x): 0.9916 D(G(z)): 0.0424 / 0.0424\n",
            "[27/100][562/563] Loss_D: 0.1095 Loss_G: 4.8454 D(x): 0.9515 D(G(z)): 0.0326 / 0.0326\n",
            "[28/100][562/563] Loss_D: 0.0603 Loss_G: 3.9719 D(x): 0.9894 D(G(z)): 0.0417 / 0.0416\n",
            "[29/100][562/563] Loss_D: 0.1175 Loss_G: 5.5569 D(x): 0.9548 D(G(z)): 0.0216 / 0.0216\n",
            "[30/100][562/563] Loss_D: 0.0449 Loss_G: 5.2234 D(x): 0.9914 D(G(z)): 0.0288 / 0.0288\n",
            "[31/100][562/563] Loss_D: 0.7305 Loss_G: 0.7444 D(x): 0.9664 D(G(z)): 0.4907 / 0.4814\n",
            "[32/100][562/563] Loss_D: 0.0676 Loss_G: 4.1232 D(x): 0.9863 D(G(z)): 0.0439 / 0.0437\n",
            "[33/100][562/563] Loss_D: 0.0367 Loss_G: 7.7019 D(x): 0.9919 D(G(z)): 0.0226 / 0.0226\n",
            "[34/100][562/563] Loss_D: 0.0339 Loss_G: 8.9928 D(x): 0.9919 D(G(z)): 0.0200 / 0.0199\n",
            "[35/100][562/563] Loss_D: 0.0449 Loss_G: 9.9660 D(x): 0.9870 D(G(z)): 0.0188 / 0.0188\n",
            "[36/100][562/563] Loss_D: 0.0356 Loss_G: 5.9660 D(x): 0.9931 D(G(z)): 0.0219 / 0.0219\n",
            "[37/100][562/563] Loss_D: 0.0671 Loss_G: 3.8648 D(x): 0.9900 D(G(z)): 0.0461 / 0.0461\n",
            "[38/100][562/563] Loss_D: 0.0489 Loss_G: 4.7492 D(x): 0.9919 D(G(z)): 0.0329 / 0.0329\n",
            "[39/100][562/563] Loss_D: 0.0449 Loss_G: 5.7502 D(x): 0.9882 D(G(z)): 0.0242 / 0.0242\n",
            "[40/100][562/563] Loss_D: 0.0482 Loss_G: 6.8150 D(x): 0.9839 D(G(z)): 0.0204 / 0.0204\n",
            "[41/100][562/563] Loss_D: 0.0296 Loss_G: 7.9203 D(x): 0.9942 D(G(z)): 0.0186 / 0.0186\n",
            "[42/100][562/563] Loss_D: 0.0395 Loss_G: 7.0464 D(x): 0.9875 D(G(z)): 0.0173 / 0.0173\n",
            "[43/100][562/563] Loss_D: 0.0338 Loss_G: 7.5284 D(x): 0.9907 D(G(z)): 0.0178 / 0.0178\n",
            "[44/100][562/563] Loss_D: 0.0210 Loss_G: 7.5660 D(x): 0.9967 D(G(z)): 0.0148 / 0.0153\n",
            "[45/100][562/563] Loss_D: 0.0272 Loss_G: 8.6130 D(x): 0.9917 D(G(z)): 0.0135 / 0.0135\n",
            "[46/100][562/563] Loss_D: 0.0364 Loss_G: 9.6331 D(x): 0.9874 D(G(z)): 0.0130 / 0.0130\n",
            "[47/100][562/563] Loss_D: 0.0606 Loss_G: 10.6174 D(x): 0.9785 D(G(z)): 0.0124 / 0.0124\n",
            "[48/100][562/563] Loss_D: 0.0298 Loss_G: 8.8039 D(x): 0.9896 D(G(z)): 0.0114 / 0.0114\n",
            "[49/100][562/563] Loss_D: 0.0199 Loss_G: 9.8192 D(x): 0.9954 D(G(z)): 0.0116 / 0.0116\n",
            "[50/100][562/563] Loss_D: 0.0159 Loss_G: 10.2006 D(x): 0.9978 D(G(z)): 0.0113 / 0.0113\n",
            "[51/100][562/563] Loss_D: 0.0162 Loss_G: 11.4207 D(x): 0.9967 D(G(z)): 0.0100 / 0.0100\n",
            "[52/100][562/563] Loss_D: 0.0163 Loss_G: 12.6690 D(x): 0.9952 D(G(z)): 0.0083 / 0.0083\n",
            "[53/100][562/563] Loss_D: 0.0140 Loss_G: 8.3477 D(x): 0.9961 D(G(z)): 0.0075 / 0.0075\n",
            "[54/100][562/563] Loss_D: 0.0141 Loss_G: 9.3695 D(x): 0.9967 D(G(z)): 0.0086 / 0.0086\n",
            "[55/100][562/563] Loss_D: 0.0224 Loss_G: 10.7106 D(x): 0.9920 D(G(z)): 0.0081 / 0.0081\n",
            "[56/100][562/563] Loss_D: 0.0088 Loss_G: 11.8914 D(x): 0.9995 D(G(z)): 0.0073 / 0.0073\n",
            "[57/100][562/563] Loss_D: 0.0083 Loss_G: 13.1331 D(x): 0.9995 D(G(z)): 0.0069 / 0.0069\n",
            "[58/100][562/563] Loss_D: 0.0073 Loss_G: 14.6299 D(x): 0.9996 D(G(z)): 0.0061 / 0.0061\n",
            "[59/100][562/563] Loss_D: 0.0070 Loss_G: 17.1416 D(x): 0.9997 D(G(z)): 0.0060 / 0.0060\n",
            "[60/100][562/563] Loss_D: 0.0064 Loss_G: 11.2666 D(x): 0.9987 D(G(z)): 0.0042 / 0.0042\n",
            "[61/100][562/563] Loss_D: 0.0058 Loss_G: 13.4549 D(x): 0.9999 D(G(z)): 0.0050 / 0.0050\n",
            "[62/100][562/563] Loss_D: 0.0059 Loss_G: 13.3478 D(x): 0.9999 D(G(z)): 0.0052 / 0.0052\n",
            "[63/100][562/563] Loss_D: 0.0125 Loss_G: 16.2366 D(x): 0.9949 D(G(z)): 0.0050 / 0.0050\n",
            "[64/100][562/563] Loss_D: 0.0087 Loss_G: 17.6874 D(x): 0.9972 D(G(z)): 0.0045 / 0.0045\n",
            "[65/100][562/563] Loss_D: 0.0087 Loss_G: 19.3405 D(x): 0.9978 D(G(z)): 0.0044 / 0.0044\n",
            "[66/100][562/563] Loss_D: 0.0068 Loss_G: 18.0402 D(x): 0.9981 D(G(z)): 0.0035 / 0.0035\n",
            "[67/100][562/563] Loss_D: 0.0092 Loss_G: 16.0813 D(x): 0.9978 D(G(z)): 0.0047 / 0.0047\n",
            "[68/100][562/563] Loss_D: 0.0078 Loss_G: 15.9799 D(x): 0.9977 D(G(z)): 0.0044 / 0.0044\n",
            "[69/100][562/563] Loss_D: 0.0046 Loss_G: 16.2676 D(x): 0.9999 D(G(z)): 0.0041 / 0.0041\n",
            "[70/100][562/563] Loss_D: 0.0058 Loss_G: 16.5186 D(x): 0.9988 D(G(z)): 0.0038 / 0.0038\n",
            "[71/100][562/563] Loss_D: 0.0058 Loss_G: 16.9348 D(x): 0.9989 D(G(z)): 0.0041 / 0.0041\n",
            "[72/100][562/563] Loss_D: 0.0057 Loss_G: 18.6597 D(x): 0.9988 D(G(z)): 0.0037 / 0.0037\n",
            "[73/100][562/563] Loss_D: 0.0062 Loss_G: 18.7235 D(x): 0.9977 D(G(z)): 0.0029 / 0.0029\n",
            "[74/100][562/563] Loss_D: 0.0059 Loss_G: 11.9917 D(x): 0.9982 D(G(z)): 0.0035 / 0.0035\n",
            "[75/100][562/563] Loss_D: 0.0041 Loss_G: 11.2682 D(x): 1.0000 D(G(z)): 0.0038 / 0.0038\n",
            "[76/100][562/563] Loss_D: 0.0059 Loss_G: 12.0650 D(x): 0.9984 D(G(z)): 0.0036 / 0.0036\n",
            "[77/100][562/563] Loss_D: 0.0039 Loss_G: 11.8849 D(x): 1.0000 D(G(z)): 0.0036 / 0.0036\n",
            "[78/100][562/563] Loss_D: 0.0036 Loss_G: 13.9497 D(x): 1.0000 D(G(z)): 0.0033 / 0.0033\n",
            "[79/100][562/563] Loss_D: 0.0053 Loss_G: 14.5639 D(x): 0.9985 D(G(z)): 0.0032 / 0.0032\n",
            "[80/100][562/563] Loss_D: 0.0035 Loss_G: 15.9186 D(x): 1.0000 D(G(z)): 0.0032 / 0.0032\n",
            "[81/100][562/563] Loss_D: 0.0033 Loss_G: 17.6391 D(x): 1.0000 D(G(z)): 0.0031 / 0.0031\n",
            "[82/100][562/563] Loss_D: 0.0042 Loss_G: 19.3239 D(x): 0.9995 D(G(z)): 0.0033 / 0.0033\n",
            "[83/100][562/563] Loss_D: 0.0074 Loss_G: 12.1283 D(x): 0.9979 D(G(z)): 0.0032 / 0.0032\n",
            "[84/100][562/563] Loss_D: 0.0073 Loss_G: 14.3789 D(x): 0.9969 D(G(z)): 0.0030 / 0.0030\n",
            "[85/100][562/563] Loss_D: 0.0035 Loss_G: 15.1330 D(x): 0.9996 D(G(z)): 0.0029 / 0.0029\n",
            "[86/100][562/563] Loss_D: 0.0084 Loss_G: 17.1680 D(x): 0.9969 D(G(z)): 0.0026 / 0.0026\n",
            "[87/100][562/563] Loss_D: 0.0034 Loss_G: 18.7956 D(x): 0.9996 D(G(z)): 0.0028 / 0.0028\n",
            "[88/100][562/563] Loss_D: 0.0091 Loss_G: 21.7694 D(x): 0.9965 D(G(z)): 0.0025 / 0.0025\n",
            "[89/100][562/563] Loss_D: 0.0021 Loss_G: 23.9873 D(x): 1.0000 D(G(z)): 0.0020 / 0.0020\n",
            "[90/100][562/563] Loss_D: 0.0074 Loss_G: 18.4205 D(x): 0.9977 D(G(z)): 0.0023 / 0.0023\n",
            "[91/100][562/563] Loss_D: 0.0025 Loss_G: 19.9801 D(x): 0.9998 D(G(z)): 0.0022 / 0.0022\n",
            "[92/100][562/563] Loss_D: 0.0023 Loss_G: 21.0002 D(x): 1.0000 D(G(z)): 0.0022 / 0.0022\n",
            "[93/100][562/563] Loss_D: 0.0072 Loss_G: 22.9332 D(x): 0.9974 D(G(z)): 0.0020 / 0.0020\n",
            "[94/100][562/563] Loss_D: 0.0019 Loss_G: 24.8183 D(x): 1.0000 D(G(z)): 0.0018 / 0.0018\n",
            "[95/100][562/563] Loss_D: 0.0018 Loss_G: 26.7617 D(x): 1.0000 D(G(z)): 0.0017 / 0.0017\n",
            "[96/100][562/563] Loss_D: 0.0028 Loss_G: 19.6174 D(x): 0.9993 D(G(z)): 0.0019 / 0.0019\n",
            "[97/100][562/563] Loss_D: 0.0021 Loss_G: 14.1295 D(x): 1.0000 D(G(z)): 0.0019 / 0.0019\n",
            "[98/100][562/563] Loss_D: 0.0026 Loss_G: 13.6724 D(x): 0.9995 D(G(z)): 0.0019 / 0.0019\n",
            "[99/100][562/563] Loss_D: 0.0020 Loss_G: 14.2505 D(x): 1.0000 D(G(z)): 0.0019 / 0.0019\n"
          ],
          "name": "stdout"
        }
      ]
    },
    {
      "cell_type": "markdown",
      "metadata": {
        "id": "bjVCqtiKZD2Y"
      },
      "source": [
        "# Test data Preparation"
      ]
    },
    {
      "cell_type": "code",
      "metadata": {
        "id": "qz1RdqDAqToy"
      },
      "source": [
        "\n",
        "stride = window_length\n",
        "\n",
        "x_test, y_test = unroll(df_x2, df_y)"
      ],
      "execution_count": 42,
      "outputs": []
    },
    {
      "cell_type": "code",
      "metadata": {
        "id": "vysqVs0jqTpR",
        "outputId": "dbda0947-5b59-43fe-a8e0-0ca240adf509",
        "colab": {
          "base_uri": "https://localhost:8080/"
        }
      },
      "source": [
        "x_test.shape, y_test.shape"
      ],
      "execution_count": 43,
      "outputs": [
        {
          "output_type": "execute_result",
          "data": {
            "text/plain": [
              "((300, 60, 1), (300, 60, 1))"
            ]
          },
          "metadata": {
            "tags": []
          },
          "execution_count": 43
        }
      ]
    },
    {
      "cell_type": "code",
      "metadata": {
        "id": "bd6kdLkeqTpZ"
      },
      "source": [
        "dataset_test = data(x_test,y_test)"
      ],
      "execution_count": 44,
      "outputs": []
    },
    {
      "cell_type": "code",
      "metadata": {
        "id": "WQM_AnqaqTpd",
        "outputId": "effe4b83-5285-46db-db4b-bfd987cb8912",
        "colab": {
          "base_uri": "https://localhost:8080/"
        }
      },
      "source": [
        "dataset_test.x.shape, dataset_test.y.shape"
      ],
      "execution_count": 45,
      "outputs": [
        {
          "output_type": "execute_result",
          "data": {
            "text/plain": [
              "(torch.Size([300, 60, 1]), torch.Size([300]))"
            ]
          },
          "metadata": {
            "tags": []
          },
          "execution_count": 45
        }
      ]
    },
    {
      "cell_type": "code",
      "metadata": {
        "id": "Px6kbCuPkwlt"
      },
      "source": [
        "test_dataloader = torch.utils.data.DataLoader(dataset_test, batch_size=1, \n",
        "                                         shuffle=False)"
      ],
      "execution_count": 46,
      "outputs": []
    },
    {
      "cell_type": "markdown",
      "metadata": {
        "id": "RgNn2IqtZwKr"
      },
      "source": [
        "# Inverse mapping to latent space and reconstruction of data for estimating anomaly score"
      ]
    },
    {
      "cell_type": "code",
      "metadata": {
        "id": "d0nTT0NwrAYE",
        "outputId": "1545c43e-beaf-4afa-e6db-e48521870490",
        "colab": {
          "base_uri": "https://localhost:8080/"
        }
      },
      "source": [
        "loss_list = []\n",
        "#y_list = []\n",
        "for i, (x,y) in enumerate(test_dataloader):\n",
        "    print(i, y)\n",
        "    \n",
        "    z = Variable(init.normal(torch.zeros(1,\n",
        "                                     window_length, \n",
        "                                     1),mean=0,std=0.1),requires_grad=True)\n",
        "    #z = x\n",
        "    z_optimizer = torch.optim.Adam([z],lr=1e-2)\n",
        "    \n",
        "    loss = None\n",
        "    for j in range(50): # set your interation range\n",
        "        gen_fake,_ = netG(z.cuda())\n",
        "        loss = Anomaly_score(Variable(x).cuda(), gen_fake)\n",
        "        loss.backward()\n",
        "        z_optimizer.step()\n",
        "\n",
        "    loss_list.append(loss) # Store the loss from the final iteration\n",
        "    #y_list.append(y) # Store the corresponding anomaly label\n",
        "    print('~~~~~~~~loss={},  y={} ~~~~~~~~~~'.format(loss, y))\n",
        "    #break"
      ],
      "execution_count": 48,
      "outputs": [
        {
          "output_type": "stream",
          "text": [
            "0 tensor([0.])\n"
          ],
          "name": "stdout"
        },
        {
          "output_type": "stream",
          "text": [
            "/usr/local/lib/python3.6/dist-packages/ipykernel_launcher.py:8: UserWarning: nn.init.normal is now deprecated in favor of nn.init.normal_.\n",
            "  \n"
          ],
          "name": "stderr"
        },
        {
          "output_type": "stream",
          "text": [
            "~~~~~~~~loss=408.9256591796875,  y=tensor([0.]) ~~~~~~~~~~\n",
            "1 tensor([0.])\n",
            "~~~~~~~~loss=422.2438659667969,  y=tensor([0.]) ~~~~~~~~~~\n",
            "2 tensor([0.])\n",
            "~~~~~~~~loss=420.5152587890625,  y=tensor([0.]) ~~~~~~~~~~\n",
            "3 tensor([0.])\n",
            "~~~~~~~~loss=420.45208740234375,  y=tensor([0.]) ~~~~~~~~~~\n",
            "4 tensor([0.])\n",
            "~~~~~~~~loss=410.69915771484375,  y=tensor([0.]) ~~~~~~~~~~\n",
            "5 tensor([0.])\n",
            "~~~~~~~~loss=418.623779296875,  y=tensor([0.]) ~~~~~~~~~~\n",
            "6 tensor([0.])\n",
            "~~~~~~~~loss=419.5382080078125,  y=tensor([0.]) ~~~~~~~~~~\n",
            "7 tensor([0.])\n",
            "~~~~~~~~loss=418.9976501464844,  y=tensor([0.]) ~~~~~~~~~~\n",
            "8 tensor([0.])\n",
            "~~~~~~~~loss=418.42230224609375,  y=tensor([0.]) ~~~~~~~~~~\n",
            "9 tensor([0.])\n",
            "~~~~~~~~loss=419.50482177734375,  y=tensor([0.]) ~~~~~~~~~~\n",
            "10 tensor([0.])\n",
            "~~~~~~~~loss=419.574462890625,  y=tensor([0.]) ~~~~~~~~~~\n",
            "11 tensor([0.])\n",
            "~~~~~~~~loss=420.6808166503906,  y=tensor([0.]) ~~~~~~~~~~\n",
            "12 tensor([0.])\n",
            "~~~~~~~~loss=421.0054016113281,  y=tensor([0.]) ~~~~~~~~~~\n",
            "13 tensor([0.])\n",
            "~~~~~~~~loss=422.877197265625,  y=tensor([0.]) ~~~~~~~~~~\n",
            "14 tensor([0.])\n",
            "~~~~~~~~loss=425.3026123046875,  y=tensor([0.]) ~~~~~~~~~~\n",
            "15 tensor([0.])\n",
            "~~~~~~~~loss=425.0849609375,  y=tensor([0.]) ~~~~~~~~~~\n",
            "16 tensor([0.])\n",
            "~~~~~~~~loss=427.131103515625,  y=tensor([0.]) ~~~~~~~~~~\n",
            "17 tensor([0.])\n",
            "~~~~~~~~loss=426.5792236328125,  y=tensor([0.]) ~~~~~~~~~~\n",
            "18 tensor([0.])\n",
            "~~~~~~~~loss=426.7811279296875,  y=tensor([0.]) ~~~~~~~~~~\n",
            "19 tensor([0.])\n",
            "~~~~~~~~loss=426.4388427734375,  y=tensor([0.]) ~~~~~~~~~~\n",
            "20 tensor([0.])\n",
            "~~~~~~~~loss=429.9935302734375,  y=tensor([0.]) ~~~~~~~~~~\n",
            "21 tensor([0.])\n",
            "~~~~~~~~loss=429.9298095703125,  y=tensor([0.]) ~~~~~~~~~~\n",
            "22 tensor([0.])\n",
            "~~~~~~~~loss=431.5198974609375,  y=tensor([0.]) ~~~~~~~~~~\n",
            "23 tensor([0.])\n",
            "~~~~~~~~loss=431.45831298828125,  y=tensor([0.]) ~~~~~~~~~~\n",
            "24 tensor([0.])\n",
            "~~~~~~~~loss=431.18902587890625,  y=tensor([0.]) ~~~~~~~~~~\n",
            "25 tensor([0.])\n",
            "~~~~~~~~loss=431.65472412109375,  y=tensor([0.]) ~~~~~~~~~~\n",
            "26 tensor([0.])\n",
            "~~~~~~~~loss=432.87152099609375,  y=tensor([0.]) ~~~~~~~~~~\n",
            "27 tensor([0.])\n",
            "~~~~~~~~loss=434.1327819824219,  y=tensor([0.]) ~~~~~~~~~~\n",
            "28 tensor([0.])\n",
            "~~~~~~~~loss=432.70220947265625,  y=tensor([0.]) ~~~~~~~~~~\n",
            "29 tensor([0.])\n",
            "~~~~~~~~loss=433.9268798828125,  y=tensor([0.]) ~~~~~~~~~~\n",
            "30 tensor([0.])\n",
            "~~~~~~~~loss=435.221923828125,  y=tensor([0.]) ~~~~~~~~~~\n",
            "31 tensor([0.])\n",
            "~~~~~~~~loss=434.865966796875,  y=tensor([0.]) ~~~~~~~~~~\n",
            "32 tensor([0.])\n",
            "~~~~~~~~loss=434.49554443359375,  y=tensor([0.]) ~~~~~~~~~~\n",
            "33 tensor([0.])\n",
            "~~~~~~~~loss=432.78021240234375,  y=tensor([0.]) ~~~~~~~~~~\n",
            "34 tensor([0.])\n",
            "~~~~~~~~loss=430.17974853515625,  y=tensor([0.]) ~~~~~~~~~~\n",
            "35 tensor([0.])\n",
            "~~~~~~~~loss=428.752197265625,  y=tensor([0.]) ~~~~~~~~~~\n",
            "36 tensor([0.])\n",
            "~~~~~~~~loss=428.533447265625,  y=tensor([0.]) ~~~~~~~~~~\n",
            "37 tensor([0.])\n",
            "~~~~~~~~loss=428.1637268066406,  y=tensor([0.]) ~~~~~~~~~~\n",
            "38 tensor([0.])\n",
            "~~~~~~~~loss=427.68170166015625,  y=tensor([0.]) ~~~~~~~~~~\n",
            "39 tensor([0.])\n",
            "~~~~~~~~loss=427.2848815917969,  y=tensor([0.]) ~~~~~~~~~~\n",
            "40 tensor([0.])\n",
            "~~~~~~~~loss=422.5939025878906,  y=tensor([0.]) ~~~~~~~~~~\n",
            "41 tensor([0.])\n",
            "~~~~~~~~loss=427.56988525390625,  y=tensor([0.]) ~~~~~~~~~~\n",
            "42 tensor([0.])\n",
            "~~~~~~~~loss=424.1287841796875,  y=tensor([0.]) ~~~~~~~~~~\n",
            "43 tensor([0.])\n",
            "~~~~~~~~loss=424.02508544921875,  y=tensor([0.]) ~~~~~~~~~~\n",
            "44 tensor([0.])\n",
            "~~~~~~~~loss=424.7586364746094,  y=tensor([0.]) ~~~~~~~~~~\n",
            "45 tensor([0.])\n",
            "~~~~~~~~loss=425.0928955078125,  y=tensor([0.]) ~~~~~~~~~~\n",
            "46 tensor([0.])\n",
            "~~~~~~~~loss=426.4331359863281,  y=tensor([0.]) ~~~~~~~~~~\n",
            "47 tensor([0.])\n",
            "~~~~~~~~loss=418.0705261230469,  y=tensor([0.]) ~~~~~~~~~~\n",
            "48 tensor([0.])\n",
            "~~~~~~~~loss=418.13720703125,  y=tensor([0.]) ~~~~~~~~~~\n",
            "49 tensor([0.])\n",
            "~~~~~~~~loss=418.93157958984375,  y=tensor([0.]) ~~~~~~~~~~\n",
            "50 tensor([0.])\n",
            "~~~~~~~~loss=418.521240234375,  y=tensor([0.]) ~~~~~~~~~~\n",
            "51 tensor([0.])\n",
            "~~~~~~~~loss=417.74224853515625,  y=tensor([0.]) ~~~~~~~~~~\n",
            "52 tensor([0.])\n",
            "~~~~~~~~loss=417.4287109375,  y=tensor([0.]) ~~~~~~~~~~\n",
            "53 tensor([0.])\n",
            "~~~~~~~~loss=417.0870361328125,  y=tensor([0.]) ~~~~~~~~~~\n",
            "54 tensor([0.])\n",
            "~~~~~~~~loss=418.04547119140625,  y=tensor([0.]) ~~~~~~~~~~\n",
            "55 tensor([0.])\n",
            "~~~~~~~~loss=417.2658386230469,  y=tensor([0.]) ~~~~~~~~~~\n",
            "56 tensor([0.])\n",
            "~~~~~~~~loss=418.15301513671875,  y=tensor([0.]) ~~~~~~~~~~\n",
            "57 tensor([0.])\n",
            "~~~~~~~~loss=419.000732421875,  y=tensor([0.]) ~~~~~~~~~~\n",
            "58 tensor([0.])\n",
            "~~~~~~~~loss=418.53643798828125,  y=tensor([0.]) ~~~~~~~~~~\n",
            "59 tensor([0.])\n",
            "~~~~~~~~loss=419.5282287597656,  y=tensor([0.]) ~~~~~~~~~~\n",
            "60 tensor([0.])\n",
            "~~~~~~~~loss=419.74102783203125,  y=tensor([0.]) ~~~~~~~~~~\n",
            "61 tensor([0.])\n",
            "~~~~~~~~loss=420.88726806640625,  y=tensor([0.]) ~~~~~~~~~~\n",
            "62 tensor([0.])\n",
            "~~~~~~~~loss=420.1236572265625,  y=tensor([0.]) ~~~~~~~~~~\n",
            "63 tensor([0.])\n",
            "~~~~~~~~loss=422.5287780761719,  y=tensor([0.]) ~~~~~~~~~~\n",
            "64 tensor([0.])\n",
            "~~~~~~~~loss=424.9681396484375,  y=tensor([0.]) ~~~~~~~~~~\n",
            "65 tensor([0.])\n",
            "~~~~~~~~loss=425.4394226074219,  y=tensor([0.]) ~~~~~~~~~~\n",
            "66 tensor([0.])\n",
            "~~~~~~~~loss=425.86212158203125,  y=tensor([0.]) ~~~~~~~~~~\n",
            "67 tensor([0.])\n",
            "~~~~~~~~loss=425.1987609863281,  y=tensor([0.]) ~~~~~~~~~~\n",
            "68 tensor([0.])\n",
            "~~~~~~~~loss=427.662841796875,  y=tensor([0.]) ~~~~~~~~~~\n",
            "69 tensor([0.])\n",
            "~~~~~~~~loss=427.8162841796875,  y=tensor([0.]) ~~~~~~~~~~\n",
            "70 tensor([0.])\n",
            "~~~~~~~~loss=428.9576416015625,  y=tensor([0.]) ~~~~~~~~~~\n",
            "71 tensor([0.])\n",
            "~~~~~~~~loss=428.92919921875,  y=tensor([0.]) ~~~~~~~~~~\n",
            "72 tensor([0.])\n",
            "~~~~~~~~loss=428.8504638671875,  y=tensor([0.]) ~~~~~~~~~~\n",
            "73 tensor([0.])\n",
            "~~~~~~~~loss=429.42572021484375,  y=tensor([0.]) ~~~~~~~~~~\n",
            "74 tensor([0.])\n",
            "~~~~~~~~loss=430.04998779296875,  y=tensor([0.]) ~~~~~~~~~~\n",
            "75 tensor([0.])\n",
            "~~~~~~~~loss=431.3109130859375,  y=tensor([0.]) ~~~~~~~~~~\n",
            "76 tensor([0.])\n",
            "~~~~~~~~loss=428.43524169921875,  y=tensor([0.]) ~~~~~~~~~~\n",
            "77 tensor([0.])\n",
            "~~~~~~~~loss=429.598388671875,  y=tensor([0.]) ~~~~~~~~~~\n",
            "78 tensor([0.])\n",
            "~~~~~~~~loss=430.33489990234375,  y=tensor([0.]) ~~~~~~~~~~\n",
            "79 tensor([0.])\n",
            "~~~~~~~~loss=430.68328857421875,  y=tensor([0.]) ~~~~~~~~~~\n",
            "80 tensor([0.])\n",
            "~~~~~~~~loss=430.0414733886719,  y=tensor([0.]) ~~~~~~~~~~\n",
            "81 tensor([0.])\n",
            "~~~~~~~~loss=428.63720703125,  y=tensor([0.]) ~~~~~~~~~~\n",
            "82 tensor([0.])\n",
            "~~~~~~~~loss=429.16845703125,  y=tensor([0.]) ~~~~~~~~~~\n",
            "83 tensor([0.])\n",
            "~~~~~~~~loss=431.34246826171875,  y=tensor([0.]) ~~~~~~~~~~\n",
            "84 tensor([0.])\n",
            "~~~~~~~~loss=430.6083984375,  y=tensor([0.]) ~~~~~~~~~~\n",
            "85 tensor([0.])\n",
            "~~~~~~~~loss=430.37841796875,  y=tensor([0.]) ~~~~~~~~~~\n",
            "86 tensor([0.])\n",
            "~~~~~~~~loss=429.2662353515625,  y=tensor([0.]) ~~~~~~~~~~\n",
            "87 tensor([0.])\n",
            "~~~~~~~~loss=430.2167663574219,  y=tensor([0.]) ~~~~~~~~~~\n",
            "88 tensor([0.])\n",
            "~~~~~~~~loss=429.2226867675781,  y=tensor([0.]) ~~~~~~~~~~\n",
            "89 tensor([0.])\n",
            "~~~~~~~~loss=429.7066955566406,  y=tensor([0.]) ~~~~~~~~~~\n",
            "90 tensor([0.])\n",
            "~~~~~~~~loss=430.11505126953125,  y=tensor([0.]) ~~~~~~~~~~\n",
            "91 tensor([0.])\n",
            "~~~~~~~~loss=427.3549499511719,  y=tensor([0.]) ~~~~~~~~~~\n",
            "92 tensor([0.])\n",
            "~~~~~~~~loss=429.0574035644531,  y=tensor([0.]) ~~~~~~~~~~\n",
            "93 tensor([0.])\n",
            "~~~~~~~~loss=430.27642822265625,  y=tensor([0.]) ~~~~~~~~~~\n",
            "94 tensor([0.])\n",
            "~~~~~~~~loss=428.6595458984375,  y=tensor([0.]) ~~~~~~~~~~\n",
            "95 tensor([0.])\n",
            "~~~~~~~~loss=426.1741943359375,  y=tensor([0.]) ~~~~~~~~~~\n",
            "96 tensor([0.])\n",
            "~~~~~~~~loss=423.5001525878906,  y=tensor([0.]) ~~~~~~~~~~\n",
            "97 tensor([0.])\n",
            "~~~~~~~~loss=425.2364807128906,  y=tensor([0.]) ~~~~~~~~~~\n",
            "98 tensor([0.])\n",
            "~~~~~~~~loss=426.1492614746094,  y=tensor([0.]) ~~~~~~~~~~\n",
            "99 tensor([0.])\n",
            "~~~~~~~~loss=417.58880615234375,  y=tensor([0.]) ~~~~~~~~~~\n",
            "100 tensor([0.])\n",
            "~~~~~~~~loss=418.4696044921875,  y=tensor([0.]) ~~~~~~~~~~\n",
            "101 tensor([0.])\n",
            "~~~~~~~~loss=417.58966064453125,  y=tensor([0.]) ~~~~~~~~~~\n",
            "102 tensor([0.])\n",
            "~~~~~~~~loss=417.17913818359375,  y=tensor([0.]) ~~~~~~~~~~\n",
            "103 tensor([0.])\n",
            "~~~~~~~~loss=415.0010986328125,  y=tensor([0.]) ~~~~~~~~~~\n",
            "104 tensor([0.])\n",
            "~~~~~~~~loss=414.9808044433594,  y=tensor([0.]) ~~~~~~~~~~\n",
            "105 tensor([0.])\n",
            "~~~~~~~~loss=415.30328369140625,  y=tensor([0.]) ~~~~~~~~~~\n",
            "106 tensor([0.])\n",
            "~~~~~~~~loss=415.02825927734375,  y=tensor([0.]) ~~~~~~~~~~\n",
            "107 tensor([0.])\n",
            "~~~~~~~~loss=415.474365234375,  y=tensor([0.]) ~~~~~~~~~~\n",
            "108 tensor([0.])\n",
            "~~~~~~~~loss=416.8314208984375,  y=tensor([0.]) ~~~~~~~~~~\n",
            "109 tensor([0.])\n",
            "~~~~~~~~loss=417.7745361328125,  y=tensor([0.]) ~~~~~~~~~~\n",
            "110 tensor([0.])\n",
            "~~~~~~~~loss=418.7024230957031,  y=tensor([0.]) ~~~~~~~~~~\n",
            "111 tensor([0.])\n",
            "~~~~~~~~loss=417.63818359375,  y=tensor([0.]) ~~~~~~~~~~\n",
            "112 tensor([0.])\n",
            "~~~~~~~~loss=417.90985107421875,  y=tensor([0.]) ~~~~~~~~~~\n",
            "113 tensor([0.])\n",
            "~~~~~~~~loss=422.8406982421875,  y=tensor([0.]) ~~~~~~~~~~\n",
            "114 tensor([0.])\n",
            "~~~~~~~~loss=421.92919921875,  y=tensor([0.]) ~~~~~~~~~~\n",
            "115 tensor([0.])\n",
            "~~~~~~~~loss=423.3961486816406,  y=tensor([0.]) ~~~~~~~~~~\n",
            "116 tensor([0.])\n",
            "~~~~~~~~loss=424.1979064941406,  y=tensor([0.]) ~~~~~~~~~~\n",
            "117 tensor([0.])\n",
            "~~~~~~~~loss=423.8024597167969,  y=tensor([0.]) ~~~~~~~~~~\n",
            "118 tensor([0.])\n",
            "~~~~~~~~loss=424.86090087890625,  y=tensor([0.]) ~~~~~~~~~~\n",
            "119 tensor([0.])\n",
            "~~~~~~~~loss=424.59136962890625,  y=tensor([0.]) ~~~~~~~~~~\n",
            "120 tensor([0.])\n",
            "~~~~~~~~loss=426.55401611328125,  y=tensor([0.]) ~~~~~~~~~~\n",
            "121 tensor([0.])\n",
            "~~~~~~~~loss=428.5773620605469,  y=tensor([0.]) ~~~~~~~~~~\n",
            "122 tensor([0.])\n",
            "~~~~~~~~loss=429.543701171875,  y=tensor([0.]) ~~~~~~~~~~\n",
            "123 tensor([0.])\n",
            "~~~~~~~~loss=429.22271728515625,  y=tensor([0.]) ~~~~~~~~~~\n",
            "124 tensor([0.])\n",
            "~~~~~~~~loss=430.10980224609375,  y=tensor([0.]) ~~~~~~~~~~\n",
            "125 tensor([0.])\n",
            "~~~~~~~~loss=430.86358642578125,  y=tensor([0.]) ~~~~~~~~~~\n",
            "126 tensor([0.])\n",
            "~~~~~~~~loss=430.9183044433594,  y=tensor([0.]) ~~~~~~~~~~\n",
            "127 tensor([0.])\n",
            "~~~~~~~~loss=430.5171813964844,  y=tensor([0.]) ~~~~~~~~~~\n",
            "128 tensor([0.])\n",
            "~~~~~~~~loss=431.52740478515625,  y=tensor([0.]) ~~~~~~~~~~\n",
            "129 tensor([0.])\n",
            "~~~~~~~~loss=432.11083984375,  y=tensor([0.]) ~~~~~~~~~~\n",
            "130 tensor([0.])\n",
            "~~~~~~~~loss=430.6346130371094,  y=tensor([0.]) ~~~~~~~~~~\n",
            "131 tensor([0.])\n",
            "~~~~~~~~loss=429.6766662597656,  y=tensor([0.]) ~~~~~~~~~~\n",
            "132 tensor([0.])\n",
            "~~~~~~~~loss=428.62237548828125,  y=tensor([0.]) ~~~~~~~~~~\n",
            "133 tensor([0.])\n",
            "~~~~~~~~loss=432.8105163574219,  y=tensor([0.]) ~~~~~~~~~~\n",
            "134 tensor([0.])\n",
            "~~~~~~~~loss=423.85662841796875,  y=tensor([0.]) ~~~~~~~~~~\n",
            "135 tensor([0.])\n",
            "~~~~~~~~loss=424.26141357421875,  y=tensor([0.]) ~~~~~~~~~~\n",
            "136 tensor([0.])\n",
            "~~~~~~~~loss=423.11773681640625,  y=tensor([0.]) ~~~~~~~~~~\n",
            "137 tensor([0.])\n",
            "~~~~~~~~loss=414.852294921875,  y=tensor([0.]) ~~~~~~~~~~\n",
            "138 tensor([0.])\n",
            "~~~~~~~~loss=418.0628662109375,  y=tensor([0.]) ~~~~~~~~~~\n",
            "139 tensor([0.])\n",
            "~~~~~~~~loss=417.4110107421875,  y=tensor([0.]) ~~~~~~~~~~\n",
            "140 tensor([0.])\n",
            "~~~~~~~~loss=419.23577880859375,  y=tensor([0.]) ~~~~~~~~~~\n",
            "141 tensor([0.])\n",
            "~~~~~~~~loss=418.66033935546875,  y=tensor([0.]) ~~~~~~~~~~\n",
            "142 tensor([0.])\n",
            "~~~~~~~~loss=418.97625732421875,  y=tensor([0.]) ~~~~~~~~~~\n",
            "143 tensor([0.])\n",
            "~~~~~~~~loss=415.5830383300781,  y=tensor([0.]) ~~~~~~~~~~\n",
            "144 tensor([0.])\n",
            "~~~~~~~~loss=418.5190734863281,  y=tensor([0.]) ~~~~~~~~~~\n",
            "145 tensor([0.])\n",
            "~~~~~~~~loss=417.4464111328125,  y=tensor([0.]) ~~~~~~~~~~\n",
            "146 tensor([0.])\n",
            "~~~~~~~~loss=417.54937744140625,  y=tensor([0.]) ~~~~~~~~~~\n",
            "147 tensor([0.])\n",
            "~~~~~~~~loss=416.99908447265625,  y=tensor([0.]) ~~~~~~~~~~\n",
            "148 tensor([0.])\n",
            "~~~~~~~~loss=417.92718505859375,  y=tensor([0.]) ~~~~~~~~~~\n",
            "149 tensor([0.])\n",
            "~~~~~~~~loss=409.91845703125,  y=tensor([0.]) ~~~~~~~~~~\n",
            "150 tensor([0.])\n",
            "~~~~~~~~loss=412.85333251953125,  y=tensor([0.]) ~~~~~~~~~~\n",
            "151 tensor([0.])\n",
            "~~~~~~~~loss=412.8492736816406,  y=tensor([0.]) ~~~~~~~~~~\n",
            "152 tensor([0.])\n",
            "~~~~~~~~loss=417.64874267578125,  y=tensor([0.]) ~~~~~~~~~~\n",
            "153 tensor([0.])\n",
            "~~~~~~~~loss=423.6097412109375,  y=tensor([0.]) ~~~~~~~~~~\n",
            "154 tensor([0.])\n",
            "~~~~~~~~loss=422.88531494140625,  y=tensor([0.]) ~~~~~~~~~~\n",
            "155 tensor([0.])\n",
            "~~~~~~~~loss=423.6393127441406,  y=tensor([0.]) ~~~~~~~~~~\n",
            "156 tensor([0.])\n",
            "~~~~~~~~loss=422.7758483886719,  y=tensor([0.]) ~~~~~~~~~~\n",
            "157 tensor([0.])\n",
            "~~~~~~~~loss=422.29339599609375,  y=tensor([0.]) ~~~~~~~~~~\n",
            "158 tensor([0.])\n",
            "~~~~~~~~loss=421.6749267578125,  y=tensor([0.]) ~~~~~~~~~~\n",
            "159 tensor([0.])\n",
            "~~~~~~~~loss=421.60394287109375,  y=tensor([0.]) ~~~~~~~~~~\n",
            "160 tensor([0.])\n",
            "~~~~~~~~loss=421.66497802734375,  y=tensor([0.]) ~~~~~~~~~~\n",
            "161 tensor([0.])\n",
            "~~~~~~~~loss=421.9649963378906,  y=tensor([0.]) ~~~~~~~~~~\n",
            "162 tensor([0.])\n",
            "~~~~~~~~loss=423.2126159667969,  y=tensor([0.]) ~~~~~~~~~~\n",
            "163 tensor([0.])\n",
            "~~~~~~~~loss=422.6407165527344,  y=tensor([0.]) ~~~~~~~~~~\n",
            "164 tensor([0.])\n",
            "~~~~~~~~loss=424.5960693359375,  y=tensor([0.]) ~~~~~~~~~~\n",
            "165 tensor([0.])\n",
            "~~~~~~~~loss=424.7175598144531,  y=tensor([0.]) ~~~~~~~~~~\n",
            "166 tensor([0.])\n",
            "~~~~~~~~loss=425.8746032714844,  y=tensor([0.]) ~~~~~~~~~~\n",
            "167 tensor([0.])\n",
            "~~~~~~~~loss=427.2353515625,  y=tensor([0.]) ~~~~~~~~~~\n",
            "168 tensor([0.])\n",
            "~~~~~~~~loss=430.19769287109375,  y=tensor([0.]) ~~~~~~~~~~\n",
            "169 tensor([0.])\n",
            "~~~~~~~~loss=424.39288330078125,  y=tensor([0.]) ~~~~~~~~~~\n",
            "170 tensor([0.])\n",
            "~~~~~~~~loss=429.9741516113281,  y=tensor([0.]) ~~~~~~~~~~\n",
            "171 tensor([0.])\n",
            "~~~~~~~~loss=429.453857421875,  y=tensor([0.]) ~~~~~~~~~~\n",
            "172 tensor([0.])\n",
            "~~~~~~~~loss=430.0796203613281,  y=tensor([0.]) ~~~~~~~~~~\n",
            "173 tensor([0.])\n",
            "~~~~~~~~loss=426.7134094238281,  y=tensor([0.]) ~~~~~~~~~~\n",
            "174 tensor([0.])\n",
            "~~~~~~~~loss=429.457275390625,  y=tensor([0.]) ~~~~~~~~~~\n",
            "175 tensor([0.])\n",
            "~~~~~~~~loss=431.70751953125,  y=tensor([0.]) ~~~~~~~~~~\n",
            "176 tensor([0.])\n",
            "~~~~~~~~loss=427.1905822753906,  y=tensor([0.]) ~~~~~~~~~~\n",
            "177 tensor([0.])\n",
            "~~~~~~~~loss=434.668701171875,  y=tensor([0.]) ~~~~~~~~~~\n",
            "178 tensor([0.])\n",
            "~~~~~~~~loss=428.9270935058594,  y=tensor([0.]) ~~~~~~~~~~\n",
            "179 tensor([0.])\n",
            "~~~~~~~~loss=429.908203125,  y=tensor([0.]) ~~~~~~~~~~\n",
            "180 tensor([0.])\n",
            "~~~~~~~~loss=432.1299743652344,  y=tensor([0.]) ~~~~~~~~~~\n",
            "181 tensor([0.])\n",
            "~~~~~~~~loss=434.91119384765625,  y=tensor([0.]) ~~~~~~~~~~\n",
            "182 tensor([0.])\n",
            "~~~~~~~~loss=434.44268798828125,  y=tensor([0.]) ~~~~~~~~~~\n",
            "183 tensor([0.])\n",
            "~~~~~~~~loss=436.23187255859375,  y=tensor([0.]) ~~~~~~~~~~\n",
            "184 tensor([0.])\n",
            "~~~~~~~~loss=432.57989501953125,  y=tensor([0.]) ~~~~~~~~~~\n",
            "185 tensor([0.])\n",
            "~~~~~~~~loss=436.10565185546875,  y=tensor([0.]) ~~~~~~~~~~\n",
            "186 tensor([0.])\n",
            "~~~~~~~~loss=434.3455505371094,  y=tensor([0.]) ~~~~~~~~~~\n",
            "187 tensor([0.])\n",
            "~~~~~~~~loss=433.24639892578125,  y=tensor([0.]) ~~~~~~~~~~\n",
            "188 tensor([0.])\n",
            "~~~~~~~~loss=432.2808837890625,  y=tensor([0.]) ~~~~~~~~~~\n",
            "189 tensor([0.])\n",
            "~~~~~~~~loss=437.1398620605469,  y=tensor([0.]) ~~~~~~~~~~\n",
            "190 tensor([0.])\n",
            "~~~~~~~~loss=430.4217529296875,  y=tensor([0.]) ~~~~~~~~~~\n",
            "191 tensor([0.])\n",
            "~~~~~~~~loss=432.0177001953125,  y=tensor([0.]) ~~~~~~~~~~\n",
            "192 tensor([0.])\n",
            "~~~~~~~~loss=426.8952941894531,  y=tensor([0.]) ~~~~~~~~~~\n",
            "193 tensor([0.])\n",
            "~~~~~~~~loss=429.4443359375,  y=tensor([0.]) ~~~~~~~~~~\n",
            "194 tensor([0.])\n",
            "~~~~~~~~loss=427.618408203125,  y=tensor([0.]) ~~~~~~~~~~\n",
            "195 tensor([0.])\n",
            "~~~~~~~~loss=421.92919921875,  y=tensor([0.]) ~~~~~~~~~~\n",
            "196 tensor([0.])\n",
            "~~~~~~~~loss=424.7241516113281,  y=tensor([0.]) ~~~~~~~~~~\n",
            "197 tensor([0.])\n",
            "~~~~~~~~loss=424.7680358886719,  y=tensor([0.]) ~~~~~~~~~~\n",
            "198 tensor([0.])\n",
            "~~~~~~~~loss=424.51409912109375,  y=tensor([0.]) ~~~~~~~~~~\n",
            "199 tensor([0.])\n",
            "~~~~~~~~loss=428.0268249511719,  y=tensor([0.]) ~~~~~~~~~~\n",
            "200 tensor([0.])\n",
            "~~~~~~~~loss=428.0228271484375,  y=tensor([0.]) ~~~~~~~~~~\n",
            "201 tensor([0.])\n",
            "~~~~~~~~loss=423.85003662109375,  y=tensor([0.]) ~~~~~~~~~~\n",
            "202 tensor([0.])\n",
            "~~~~~~~~loss=424.610595703125,  y=tensor([0.]) ~~~~~~~~~~\n",
            "203 tensor([0.])\n",
            "~~~~~~~~loss=427.47784423828125,  y=tensor([0.]) ~~~~~~~~~~\n",
            "204 tensor([0.])\n",
            "~~~~~~~~loss=424.86907958984375,  y=tensor([0.]) ~~~~~~~~~~\n",
            "205 tensor([0.])\n",
            "~~~~~~~~loss=423.03472900390625,  y=tensor([0.]) ~~~~~~~~~~\n",
            "206 tensor([0.])\n",
            "~~~~~~~~loss=425.45050048828125,  y=tensor([0.]) ~~~~~~~~~~\n",
            "207 tensor([0.])\n",
            "~~~~~~~~loss=425.990478515625,  y=tensor([0.]) ~~~~~~~~~~\n",
            "208 tensor([0.])\n",
            "~~~~~~~~loss=424.86199951171875,  y=tensor([0.]) ~~~~~~~~~~\n",
            "209 tensor([0.])\n",
            "~~~~~~~~loss=424.2655944824219,  y=tensor([0.]) ~~~~~~~~~~\n",
            "210 tensor([0.])\n",
            "~~~~~~~~loss=423.9100646972656,  y=tensor([0.]) ~~~~~~~~~~\n",
            "211 tensor([0.])\n",
            "~~~~~~~~loss=420.1885986328125,  y=tensor([0.]) ~~~~~~~~~~\n",
            "212 tensor([0.])\n",
            "~~~~~~~~loss=421.5870361328125,  y=tensor([0.]) ~~~~~~~~~~\n",
            "213 tensor([0.])\n",
            "~~~~~~~~loss=429.04046630859375,  y=tensor([0.]) ~~~~~~~~~~\n",
            "214 tensor([0.])\n",
            "~~~~~~~~loss=424.239013671875,  y=tensor([0.]) ~~~~~~~~~~\n",
            "215 tensor([0.])\n",
            "~~~~~~~~loss=420.6007080078125,  y=tensor([0.]) ~~~~~~~~~~\n",
            "216 tensor([0.])\n",
            "~~~~~~~~loss=426.18890380859375,  y=tensor([0.]) ~~~~~~~~~~\n",
            "217 tensor([0.])\n",
            "~~~~~~~~loss=430.1021423339844,  y=tensor([0.]) ~~~~~~~~~~\n",
            "218 tensor([0.])\n",
            "~~~~~~~~loss=428.96826171875,  y=tensor([0.]) ~~~~~~~~~~\n",
            "219 tensor([0.])\n",
            "~~~~~~~~loss=424.7057189941406,  y=tensor([0.]) ~~~~~~~~~~\n",
            "220 tensor([0.])\n",
            "~~~~~~~~loss=422.582763671875,  y=tensor([0.]) ~~~~~~~~~~\n",
            "221 tensor([0.])\n",
            "~~~~~~~~loss=427.7352600097656,  y=tensor([0.]) ~~~~~~~~~~\n",
            "222 tensor([0.])\n",
            "~~~~~~~~loss=424.65380859375,  y=tensor([0.]) ~~~~~~~~~~\n",
            "223 tensor([0.])\n",
            "~~~~~~~~loss=422.8586730957031,  y=tensor([0.]) ~~~~~~~~~~\n",
            "224 tensor([0.])\n",
            "~~~~~~~~loss=422.279296875,  y=tensor([0.]) ~~~~~~~~~~\n",
            "225 tensor([0.])\n",
            "~~~~~~~~loss=422.190673828125,  y=tensor([0.]) ~~~~~~~~~~\n",
            "226 tensor([0.])\n",
            "~~~~~~~~loss=424.206298828125,  y=tensor([0.]) ~~~~~~~~~~\n",
            "227 tensor([0.])\n",
            "~~~~~~~~loss=426.3148498535156,  y=tensor([0.]) ~~~~~~~~~~\n",
            "228 tensor([0.])\n",
            "~~~~~~~~loss=424.6787109375,  y=tensor([0.]) ~~~~~~~~~~\n",
            "229 tensor([0.])\n",
            "~~~~~~~~loss=424.8885498046875,  y=tensor([0.]) ~~~~~~~~~~\n",
            "230 tensor([0.])\n",
            "~~~~~~~~loss=431.0382080078125,  y=tensor([0.]) ~~~~~~~~~~\n",
            "231 tensor([0.])\n",
            "~~~~~~~~loss=430.380859375,  y=tensor([0.]) ~~~~~~~~~~\n",
            "232 tensor([0.])\n",
            "~~~~~~~~loss=426.189453125,  y=tensor([0.]) ~~~~~~~~~~\n",
            "233 tensor([0.])\n",
            "~~~~~~~~loss=425.85797119140625,  y=tensor([0.]) ~~~~~~~~~~\n",
            "234 tensor([0.])\n",
            "~~~~~~~~loss=427.09661865234375,  y=tensor([0.]) ~~~~~~~~~~\n",
            "235 tensor([0.])\n",
            "~~~~~~~~loss=424.0705871582031,  y=tensor([0.]) ~~~~~~~~~~\n",
            "236 tensor([0.])\n",
            "~~~~~~~~loss=427.1305236816406,  y=tensor([0.]) ~~~~~~~~~~\n",
            "237 tensor([0.])\n",
            "~~~~~~~~loss=426.3846435546875,  y=tensor([0.]) ~~~~~~~~~~\n",
            "238 tensor([0.])\n",
            "~~~~~~~~loss=425.80767822265625,  y=tensor([0.]) ~~~~~~~~~~\n",
            "239 tensor([0.])\n",
            "~~~~~~~~loss=422.83673095703125,  y=tensor([0.]) ~~~~~~~~~~\n",
            "240 tensor([0.])\n",
            "~~~~~~~~loss=428.38677978515625,  y=tensor([0.]) ~~~~~~~~~~\n",
            "241 tensor([0.])\n",
            "~~~~~~~~loss=431.5630798339844,  y=tensor([0.]) ~~~~~~~~~~\n",
            "242 tensor([0.])\n",
            "~~~~~~~~loss=426.03564453125,  y=tensor([0.]) ~~~~~~~~~~\n",
            "243 tensor([0.])\n",
            "~~~~~~~~loss=426.6797180175781,  y=tensor([0.]) ~~~~~~~~~~\n",
            "244 tensor([0.])\n",
            "~~~~~~~~loss=424.8889465332031,  y=tensor([0.]) ~~~~~~~~~~\n",
            "245 tensor([0.])\n",
            "~~~~~~~~loss=429.55145263671875,  y=tensor([0.]) ~~~~~~~~~~\n",
            "246 tensor([0.])\n",
            "~~~~~~~~loss=426.683837890625,  y=tensor([0.]) ~~~~~~~~~~\n",
            "247 tensor([0.])\n",
            "~~~~~~~~loss=426.55169677734375,  y=tensor([0.]) ~~~~~~~~~~\n",
            "248 tensor([0.])\n",
            "~~~~~~~~loss=429.2531433105469,  y=tensor([0.]) ~~~~~~~~~~\n",
            "249 tensor([0.])\n",
            "~~~~~~~~loss=427.7127380371094,  y=tensor([0.]) ~~~~~~~~~~\n",
            "250 tensor([0.])\n",
            "~~~~~~~~loss=425.4053649902344,  y=tensor([0.]) ~~~~~~~~~~\n",
            "251 tensor([0.])\n",
            "~~~~~~~~loss=430.5731506347656,  y=tensor([0.]) ~~~~~~~~~~\n",
            "252 tensor([0.])\n",
            "~~~~~~~~loss=430.3538818359375,  y=tensor([0.]) ~~~~~~~~~~\n",
            "253 tensor([0.])\n",
            "~~~~~~~~loss=425.8520812988281,  y=tensor([0.]) ~~~~~~~~~~\n",
            "254 tensor([0.])\n",
            "~~~~~~~~loss=426.337890625,  y=tensor([0.]) ~~~~~~~~~~\n",
            "255 tensor([0.])\n",
            "~~~~~~~~loss=428.6056823730469,  y=tensor([0.]) ~~~~~~~~~~\n",
            "256 tensor([0.])\n",
            "~~~~~~~~loss=430.8982238769531,  y=tensor([0.]) ~~~~~~~~~~\n",
            "257 tensor([0.])\n",
            "~~~~~~~~loss=425.8049621582031,  y=tensor([0.]) ~~~~~~~~~~\n",
            "258 tensor([0.])\n",
            "~~~~~~~~loss=427.9674987792969,  y=tensor([0.]) ~~~~~~~~~~\n",
            "259 tensor([0.])\n",
            "~~~~~~~~loss=427.65948486328125,  y=tensor([0.]) ~~~~~~~~~~\n",
            "260 tensor([0.])\n",
            "~~~~~~~~loss=426.0621032714844,  y=tensor([0.]) ~~~~~~~~~~\n",
            "261 tensor([0.])\n",
            "~~~~~~~~loss=425.767822265625,  y=tensor([0.]) ~~~~~~~~~~\n",
            "262 tensor([0.])\n",
            "~~~~~~~~loss=425.9391174316406,  y=tensor([0.]) ~~~~~~~~~~\n",
            "263 tensor([0.])\n",
            "~~~~~~~~loss=428.28314208984375,  y=tensor([0.]) ~~~~~~~~~~\n",
            "264 tensor([0.])\n",
            "~~~~~~~~loss=427.85565185546875,  y=tensor([0.]) ~~~~~~~~~~\n",
            "265 tensor([0.])\n",
            "~~~~~~~~loss=428.02410888671875,  y=tensor([0.]) ~~~~~~~~~~\n",
            "266 tensor([0.])\n",
            "~~~~~~~~loss=429.2491455078125,  y=tensor([0.]) ~~~~~~~~~~\n",
            "267 tensor([0.])\n",
            "~~~~~~~~loss=431.41571044921875,  y=tensor([0.]) ~~~~~~~~~~\n",
            "268 tensor([0.])\n",
            "~~~~~~~~loss=428.0367431640625,  y=tensor([0.]) ~~~~~~~~~~\n",
            "269 tensor([0.])\n",
            "~~~~~~~~loss=427.54345703125,  y=tensor([0.]) ~~~~~~~~~~\n",
            "270 tensor([0.])\n",
            "~~~~~~~~loss=430.6744689941406,  y=tensor([0.]) ~~~~~~~~~~\n",
            "271 tensor([0.])\n",
            "~~~~~~~~loss=423.6776428222656,  y=tensor([0.]) ~~~~~~~~~~\n",
            "272 tensor([0.])\n",
            "~~~~~~~~loss=425.0577392578125,  y=tensor([0.]) ~~~~~~~~~~\n",
            "273 tensor([0.])\n",
            "~~~~~~~~loss=425.6317138671875,  y=tensor([0.]) ~~~~~~~~~~\n",
            "274 tensor([0.])\n",
            "~~~~~~~~loss=424.94610595703125,  y=tensor([0.]) ~~~~~~~~~~\n",
            "275 tensor([1.])\n",
            "~~~~~~~~loss=425.9664306640625,  y=tensor([1.]) ~~~~~~~~~~\n",
            "276 tensor([1.])\n",
            "~~~~~~~~loss=426.1919250488281,  y=tensor([1.]) ~~~~~~~~~~\n",
            "277 tensor([1.])\n",
            "~~~~~~~~loss=425.89447021484375,  y=tensor([1.]) ~~~~~~~~~~\n",
            "278 tensor([1.])\n",
            "~~~~~~~~loss=427.3982849121094,  y=tensor([1.]) ~~~~~~~~~~\n",
            "279 tensor([1.])\n",
            "~~~~~~~~loss=426.01446533203125,  y=tensor([1.]) ~~~~~~~~~~\n",
            "280 tensor([1.])\n",
            "~~~~~~~~loss=431.2894287109375,  y=tensor([1.]) ~~~~~~~~~~\n",
            "281 tensor([1.])\n",
            "~~~~~~~~loss=428.7077941894531,  y=tensor([1.]) ~~~~~~~~~~\n",
            "282 tensor([1.])\n",
            "~~~~~~~~loss=433.6036376953125,  y=tensor([1.]) ~~~~~~~~~~\n",
            "283 tensor([1.])\n",
            "~~~~~~~~loss=422.6580505371094,  y=tensor([1.]) ~~~~~~~~~~\n",
            "284 tensor([1.])\n",
            "~~~~~~~~loss=401.5671081542969,  y=tensor([1.]) ~~~~~~~~~~\n",
            "285 tensor([1.])\n",
            "~~~~~~~~loss=408.2207336425781,  y=tensor([1.]) ~~~~~~~~~~\n",
            "286 tensor([1.])\n",
            "~~~~~~~~loss=411.7098083496094,  y=tensor([1.]) ~~~~~~~~~~\n",
            "287 tensor([1.])\n",
            "~~~~~~~~loss=416.34967041015625,  y=tensor([1.]) ~~~~~~~~~~\n",
            "288 tensor([1.])\n",
            "~~~~~~~~loss=411.93682861328125,  y=tensor([1.]) ~~~~~~~~~~\n",
            "289 tensor([1.])\n",
            "~~~~~~~~loss=399.11871337890625,  y=tensor([1.]) ~~~~~~~~~~\n",
            "290 tensor([1.])\n",
            "~~~~~~~~loss=400.24993896484375,  y=tensor([1.]) ~~~~~~~~~~\n",
            "291 tensor([1.])\n",
            "~~~~~~~~loss=410.443603515625,  y=tensor([1.]) ~~~~~~~~~~\n",
            "292 tensor([1.])\n",
            "~~~~~~~~loss=401.44891357421875,  y=tensor([1.]) ~~~~~~~~~~\n",
            "293 tensor([1.])\n",
            "~~~~~~~~loss=409.9627685546875,  y=tensor([1.]) ~~~~~~~~~~\n",
            "294 tensor([1.])\n",
            "~~~~~~~~loss=416.43341064453125,  y=tensor([1.]) ~~~~~~~~~~\n",
            "295 tensor([1.])\n",
            "~~~~~~~~loss=412.13116455078125,  y=tensor([1.]) ~~~~~~~~~~\n",
            "296 tensor([1.])\n",
            "~~~~~~~~loss=438.3847351074219,  y=tensor([1.]) ~~~~~~~~~~\n",
            "297 tensor([1.])\n",
            "~~~~~~~~loss=504.62213134765625,  y=tensor([1.]) ~~~~~~~~~~\n",
            "298 tensor([1.])\n",
            "~~~~~~~~loss=504.858154296875,  y=tensor([1.]) ~~~~~~~~~~\n",
            "299 tensor([1.])\n",
            "~~~~~~~~loss=505.58837890625,  y=tensor([1.]) ~~~~~~~~~~\n"
          ],
          "name": "stdout"
        }
      ]
    },
    {
      "cell_type": "code",
      "metadata": {
        "id": "NwQcZqtJsbK0",
        "outputId": "752584fa-a109-4ad7-eef1-71ee7b784e84",
        "colab": {
          "base_uri": "https://localhost:8080/"
        }
      },
      "source": [
        "len(loss_list)"
      ],
      "execution_count": 49,
      "outputs": [
        {
          "output_type": "execute_result",
          "data": {
            "text/plain": [
              "300"
            ]
          },
          "metadata": {
            "tags": []
          },
          "execution_count": 49
        }
      ]
    },
    {
      "cell_type": "markdown",
      "metadata": {
        "id": "lc94njMxZ62A"
      },
      "source": [
        "# Visualise Anomaly Detection"
      ]
    },
    {
      "cell_type": "code",
      "metadata": {
        "id": "hIFy5FVZrGKJ",
        "outputId": "949a980b-f3b8-4792-8377-30c98cb2045b",
        "colab": {
          "base_uri": "https://localhost:8080/",
          "height": 289
        }
      },
      "source": [
        "THRESHOLD = 7.65 # Anomaly score threshold for an instance to be considered as anomaly \n",
        "\n",
        "#TIME_STEPS = dataset.window_length\n",
        "test_score_df = pd.DataFrame(index=range(len(test_dataloader)))\n",
        "test_score_df['loss'] = [loss.item()/window_length for loss in loss_list]\n",
        "test_score_df['y'] = dataset_test.y\n",
        "test_score_df['threshold'] = THRESHOLD\n",
        "test_score_df['anomaly'] = test_score_df.loss > test_score_df.threshold\n",
        "test_score_df['t'] = [x[59].item() for x in dataset_test.x]\n",
        "\n",
        "plt.plot(test_score_df.index, test_score_df.loss, label='loss')\n",
        "plt.plot(test_score_df.index, test_score_df.threshold, label='threshold')\n",
        "plt.plot(test_score_df.index, test_score_df.y, label='y')\n",
        "plt.xticks(rotation=25)\n",
        "plt.legend()"
      ],
      "execution_count": 50,
      "outputs": [
        {
          "output_type": "execute_result",
          "data": {
            "text/plain": [
              "<matplotlib.legend.Legend at 0x7f7953007668>"
            ]
          },
          "metadata": {
            "tags": []
          },
          "execution_count": 50
        },
        {
          "output_type": "display_data",
          "data": {
            "image/png": "[encoded data removed]",
            "text/plain": [
              "<Figure size 432x288 with 1 Axes>"
            ]
          },
          "metadata": {
            "tags": [],
            "needs_background": "light"
          }
        }
      ]
    },
    {
      "cell_type": "code",
      "metadata": {
        "id": "bqSXdTCvv33h",
        "outputId": "c7831bb7-1a14-41a4-93d8-2173fdfda9e4",
        "colab": {
          "base_uri": "https://localhost:8080/",
          "height": 344
        }
      },
      "source": [
        "anomalies = test_score_df[test_score_df.anomaly == True]\n",
        "\n",
        "plt.plot(\n",
        "  range(300), \n",
        "  test_score_df['t'], \n",
        "  label='value'\n",
        ");\n",
        "\n",
        "sns.scatterplot(\n",
        "  anomalies.index,\n",
        "  anomalies.t,\n",
        "  color=sns.color_palette()[3],\n",
        "  s=52,\n",
        "  label='anomaly'\n",
        ")\n",
        "\n",
        "plt.plot(\n",
        "  range(len(test_score_df['y'])),\n",
        "  test_score_df['y'],\n",
        "  label='y'\n",
        ")\n",
        "\n",
        "plt.xticks(rotation=25)\n",
        "plt.legend()"
      ],
      "execution_count": 51,
      "outputs": [
        {
          "output_type": "stream",
          "text": [
            "/usr/local/lib/python3.6/dist-packages/seaborn/_decorators.py:43: FutureWarning: Pass the following variables as keyword args: x, y. From version 0.12, the only valid positional argument will be `data`, and passing other arguments without an explicit keyword will result in an error or misinterpretation.\n",
            "  FutureWarning\n"
          ],
          "name": "stderr"
        },
        {
          "output_type": "execute_result",
          "data": {
            "text/plain": [
              "<matplotlib.legend.Legend at 0x7f794a0edb70>"
            ]
          },
          "metadata": {
            "tags": []
          },
          "execution_count": 51
        },
        {
          "output_type": "display_data",
          "data": {
            "image/png": "[encoded data removed]",
            "text/plain": [
              "<Figure size 432x288 with 1 Axes>"
            ]
          },
          "metadata": {
            "tags": [],
            "needs_background": "light"
          }
        }
      ]
    },
    {
      "cell_type": "markdown",
      "metadata": {
        "id": "-_g6eiVEaNS9"
      },
      "source": [
        "# Window-based anomalies Calculation"
      ]
    },
    {
      "cell_type": "code",
      "metadata": {
        "id": "nzNhE9iuwFDE"
      },
      "source": [
        "#Calculate the window-based anomalies\n",
        "\n",
        "start_end = []\n",
        "state = 0\n",
        "for idx in test_score_df.index:\n",
        "    if state==0 and test_score_df.loc[idx, 'y']==1:\n",
        "        state=1\n",
        "        start = idx\n",
        "    if state==1 and test_score_df.loc[idx, 'y']==0:\n",
        "        state = 0\n",
        "        end = idx\n",
        "        start_end.append((start, end))\n",
        "\n",
        "for s_e in start_end:\n",
        "    if sum(test_score_df[s_e[0]:s_e[1]+1]['anomaly'])>0:\n",
        "        for i in range(s_e[0], s_e[1]+1):\n",
        "            test_score_df.loc[i, 'anomaly'] = 1\n",
        "            \n",
        "actual = np.array(test_score_df['y'])\n",
        "predicted = np.array([int(a) for a in test_score_df['anomaly']])"
      ],
      "execution_count": 52,
      "outputs": []
    },
    {
      "cell_type": "markdown",
      "metadata": {
        "id": "tg96TxaoaeXs"
      },
      "source": [
        "# Measurement scores Calculation"
      ]
    },
    {
      "cell_type": "code",
      "metadata": {
        "id": "wCShi-hjr586",
        "outputId": "cb93835d-0c32-4a63-f84b-4b8c23c3e844",
        "colab": {
          "base_uri": "https://localhost:8080/"
        }
      },
      "source": [
        "#Calculate measurement scores\n",
        "\n",
        "\n",
        "\n",
        "predicted = np.array(predicted)\n",
        "actual = np.array(actual)\n",
        "\n",
        "tp = np.count_nonzero(predicted * actual)\n",
        "tn = np.count_nonzero((predicted - 1) * (actual - 1))\n",
        "fp = np.count_nonzero(predicted * (actual - 1))\n",
        "fn = np.count_nonzero((predicted - 1) * actual)\n",
        "\n",
        "print('True Positive\\t', tp)\n",
        "print('True Negative\\t', tn)\n",
        "print('False Positive\\t', fp)\n",
        "print('False Negative\\t', fn)\n",
        "\n",
        "accuracy = (tp + tn) / (tp + fp + fn + tn)\n",
        "precision = tp / (tp + fp)\n",
        "recall = tp / (tp + fn)\n",
        "fmeasure = (2 * precision * recall) / (precision + recall)\n",
        "cohen_kappa_score = cohen_kappa_score(predicted, actual)\n",
        "false_positive_rate, true_positive_rate, thresholds = roc_curve(actual, predicted)\n",
        "auc_val = auc(false_positive_rate, true_positive_rate)\n",
        "roc_auc_val = roc_auc_score(actual, predicted)\n",
        "\n",
        "print('Accuracy\\t', accuracy)\n",
        "print('Precision\\t', precision)\n",
        "print('Recall\\t', recall)\n",
        "print('f-measure\\t', fmeasure)\n",
        "print('cohen_kappa_score\\t', cohen_kappa_score)\n",
        "print('auc\\t', auc_val)\n",
        "print('roc_auc\\t', roc_auc_val)\n"
      ],
      "execution_count": 53,
      "outputs": [
        {
          "output_type": "stream",
          "text": [
            "True Positive\t 3\n",
            "True Negative\t 275\n",
            "False Positive\t 0\n",
            "False Negative\t 22\n",
            "Accuracy\t 0.9266666666666666\n",
            "Precision\t 1.0\n",
            "Recall\t 0.12\n",
            "f-measure\t 0.21428571428571425\n",
            "cohen_kappa_score\t 0.19999999999999996\n",
            "auc\t 0.56\n",
            "roc_auc\t 0.56\n"
          ],
          "name": "stdout"
        }
      ]
    },
    {
      "cell_type": "code",
      "metadata": {
        "id": "6nJqi1NVv2Iu"
      },
      "source": [
        ""
      ],
      "execution_count": null,
      "outputs": []
    }
  ]
}